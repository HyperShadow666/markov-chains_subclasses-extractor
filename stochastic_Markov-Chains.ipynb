{
 "cells": [
  {
   "cell_type": "markdown",
   "metadata": {},
   "source": [
    "# Présentation de l'Analyse de Chaînes de Markov"
   ]
  },
  {
   "cell_type": "markdown",
   "metadata": {},
   "source": [
    "## Introduction\n",
    "Cette présentation explore l'analyse des chaînes de Markov à l'aide d'un notebook Jupyter.\n"
   ]
  },
  {
   "cell_type": "markdown",
   "metadata": {},
   "source": [
    "## Matrice Stochastique en Entrée\n",
    "- Commencez par entrer la matrice stochastique représentant la chaîne de Markov.\n"
   ]
  },
  {
   "cell_type": "code",
   "execution_count": 1,
   "metadata": {},
   "outputs": [],
   "source": [
    "n = int(input('entrer taille'))\n"
   ]
  },
  {
   "cell_type": "code",
   "execution_count": 2,
   "metadata": {},
   "outputs": [
    {
     "name": "stdout",
     "output_type": "stream",
     "text": [
      "la matrice doit etre stochastique, la somme des lignes doit egale 1\n",
      "la matrice doit etre stochastique, la somme des lignes doit egale 1\n",
      "la matrice doit etre stochastique, la somme des lignes doit egale 1\n",
      "[[0.5, 0.5, 0.0], [0.25, 0.0, 0.75], [0.0, 0.0, 1.0]]\n"
     ]
    }
   ],
   "source": [
    "\n",
    "matrix = []\n",
    "error_range = 0.01\n",
    "for i in range(n):\n",
    "    row=[]\n",
    "    while(sum(row)<(1-error_range) or sum(row)>(1+error_range)):\n",
    "        print(\"la matrice doit etre stochastique, la somme des lignes doit egale 1\")\n",
    "        for j in range(n):\n",
    "            x= float(input(f'input the [{i}][{j}] element'))\n",
    "            row.append(x)\n",
    "        if(sum(row)<(1-error_range) or sum(row)>(1+error_range)):\n",
    "            print(sum(row)<(1-error_range))\n",
    "            print(sum(row)>(1+error_range))\n",
    "            print(\"essayer encore une fois avec ce ligne\")\n",
    "            row=[]\n",
    "    matrix.append(row)\n",
    "\n",
    "print(matrix)"
   ]
  },
  {
   "cell_type": "markdown",
   "metadata": {},
   "source": [
    "## creer une fonction reccursive qui trouve touts les états accessible à partir d'un état i\n",
    "   "
   ]
  },
  {
   "cell_type": "code",
   "execution_count": 3,
   "metadata": {},
   "outputs": [
    {
     "name": "stdout",
     "output_type": "stream",
     "text": [
      "[0, 1, 2]\n"
     ]
    }
   ],
   "source": [
    "\n",
    "list=[]\n",
    "def reccursive_search(matrix,i):\n",
    "    \"\"\"\n",
    "    Fonction récursive utilisant DFS pour trouver tous les états accessibles depuis un état donné.\n",
    "\n",
    "    :param matrix: Matrice stochastique représentant la chaîne de Markov.\n",
    "    :param i: État donné.\n",
    "    \"\"\"\n",
    "    for j in range(len(matrix[i])):\n",
    "        if matrix[i][j] != 0 and (j not in list):\n",
    "            list.append(j)\n",
    "            reccursive_search(matrix,j)\n",
    "\n",
    "reccursive_search(matrix=matrix,i=1)\n",
    "print(list)"
   ]
  },
  {
   "cell_type": "markdown",
   "metadata": {},
   "source": [
    "creer ainsi une list et un dictionnaire qui rassemble tout les etats accessibles de tout les états "
   ]
  },
  {
   "cell_type": "code",
   "execution_count": 4,
   "metadata": {},
   "outputs": [
    {
     "name": "stdout",
     "output_type": "stream",
     "text": [
      "[[0, 1, 2], [0, 1, 2], [2]]\n",
      "{'etat: 0': [0, 1, 2], 'etat: 1': [0, 1, 2], 'etat: 2': [2]}\n"
     ]
    }
   ],
   "source": [
    "trans = []\n",
    "for i in range(len(matrix)):\n",
    "    list=[]\n",
    "    reccursive_search(matrix=matrix, i=i)\n",
    "    trans.append(list)\n",
    "print(trans)\n",
    "dict = {f'etat: {i}': trans[i] for i in range(len(trans))}\n",
    "print(dict)\n"
   ]
  },
  {
   "cell_type": "markdown",
   "metadata": {},
   "source": [
    "## Communication entre États\n",
    "Lorsque l'on dit que deux états dans une chaîne de Markov se communiquent, cela signifie qu'il est possible de passer de l'un à l'autre avec une probabilité non nulle, et vice versa, même si cela ne se fait pas nécessairement en un seul pas."
   ]
  },
  {
   "cell_type": "markdown",
   "metadata": {},
   "source": [
    "creer une liste des etats qui se communiquent"
   ]
  },
  {
   "cell_type": "code",
   "execution_count": 5,
   "metadata": {},
   "outputs": [
    {
     "name": "stdout",
     "output_type": "stream",
     "text": [
      "0 <----> 0\n",
      "0 <----> 1\n",
      "1 <----> 1\n",
      "2 <----> 2\n"
     ]
    },
    {
     "data": {
      "text/plain": [
       "[(0, 0), (0, 1), (1, 1), (2, 2)]"
      ]
     },
     "execution_count": 5,
     "metadata": {},
     "output_type": "execute_result"
    }
   ],
   "source": [
    "\n",
    "comm= []\n",
    "for i in range(len(trans)):\n",
    "    \n",
    "    for state in trans[i]:\n",
    "        if i == state:\n",
    "            print(f'{i} <----> {state}')\n",
    "            comm.append((i,i))\n",
    "        else:\n",
    "            for j in trans[state]:\n",
    "                if j == i:\n",
    "                    if ((min(i,state),max(i,state)) not in comm ):\n",
    "                        comm.append((min(i,state),max(i,state)))\n",
    "                        print(f'{i} <----> {state}')\n",
    "comm"
   ]
  },
  {
   "cell_type": "markdown",
   "metadata": {},
   "source": [
    "## Sous-Classes dans une Chaîne de Markov\n",
    "les sous-classes sont des ensembles d'états qui communiquent entre eux, mais qui ont une probabilité nulle de communication avec les états en dehors de ces ensembles. En d'autres termes, tous les états à l'intérieur d'une sous-classe peuvent atteindre les uns les autres avec une probabilité non nulle, formant ainsi une structure de communication interne."
   ]
  },
  {
   "cell_type": "markdown",
   "metadata": {},
   "source": [
    "### trouver les sous classes"
   ]
  },
  {
   "cell_type": "code",
   "execution_count": 6,
   "metadata": {},
   "outputs": [
    {
     "name": "stdout",
     "output_type": "stream",
     "text": [
      "{'sous class 0': (0, 1), 'sous class 3': (2, 2)}\n"
     ]
    }
   ],
   "source": [
    "comm_copy = comm.copy()\n",
    "comm_copy\n",
    "\n",
    "final = {}\n",
    "\n",
    "for i in range(len(comm_copy)):\n",
    "    if comm_copy[i] is None: continue\n",
    "    else:\n",
    "        for j in range(len(comm_copy)):\n",
    "            if i == j: continue\n",
    "            elif comm_copy[j] is None: continue\n",
    "            else:\n",
    "                for state in comm_copy[j]:\n",
    "                    if state in comm_copy[i]:\n",
    "                        comm_copy[i] = tuple(set(comm_copy[i] + comm_copy[j]))\n",
    "                        comm_copy[j] = None\n",
    "                        break\n",
    "\n",
    "final={f'sous class {i}': comm_copy[i] for i in range(len(comm_copy)) if comm_copy[i] is not None}\n",
    "print(final)"
   ]
  },
  {
   "cell_type": "markdown",
   "metadata": {},
   "source": [
    "Une matrice de transition P d'une chaîne de Markov est dite réductible si l'ensemble des états peut être divisé en deux sous-ensembles non vides de telle sorte qu'il n'existe aucune probabilité de transition directe d'un état dans un sous-ensemble vers un état dans l'autre sous-ensemble.\n",
    "\n",
    "puisqu'on a trouvé plus qu'une seule sous classe alore la matrice est irreductible"
   ]
  },
  {
   "cell_type": "markdown",
   "metadata": {},
   "source": [
    "## Graphique d'une Chaîne de Markov\n",
    "Un graphique d'une chaîne de Markov est une représentation visuelle où chaque nœud du graphe correspond à un état dans la chaîne de Markov, et chaque arête représente une transition possible entre deux états. Ces transitions sont associées à des probabilités définies dans une matrice stochastique."
   ]
  },
  {
   "cell_type": "markdown",
   "metadata": {},
   "source": [
    "## dessiner un graphique de la chaine"
   ]
  },
  {
   "cell_type": "code",
   "execution_count": 7,
   "metadata": {},
   "outputs": [
    {
     "data": {
      "text/plain": [
       "{(0, 0): Text(1.0, 1.986821512250319e-08, '0.5'),\n",
       " (0, 1): Text(0.24999996274709668, 0.43301271829021687, '0.5'),\n",
       " (0, 2): Text(0.2500000372529033, -0.43301270835610933, '0.0'),\n",
       " (1, 0): Text(0.24999996274709668, 0.43301271829021687, '0.25'),\n",
       " (1, 1): Text(-0.5000000745058066, 0.8660254167122187, '0.0'),\n",
       " (1, 2): Text(-0.5, -9.934107536579972e-09, '0.75'),\n",
       " (2, 2): Text(-0.4999999254941933, -0.8660254365804337, '1.0')}"
      ]
     },
     "execution_count": 7,
     "metadata": {},
     "output_type": "execute_result"
    },
    {
     "data": {
      "image/png": "[encoded data removed]",
      "text/plain": [
       "<Figure size 640x480 with 1 Axes>"
      ]
     },
     "metadata": {},
     "output_type": "display_data"
    }
   ],
   "source": [
    "import networkx as nx\n",
    " \n",
    "G = nx.DiGraph()\n",
    " \n",
    "\n",
    "for i in range(len(trans)):\n",
    "    for j in range(len(trans[i])):\n",
    "        G.add_edge(i,trans[i][j], weight = matrix[i][trans[i][j]])\n",
    "\n",
    "\n",
    " \n",
    "pos=nx.circular_layout(G)\n",
    "nx.draw(G, pos, with_labels=True, font_weight='bold')\n",
    "edge_weight = nx.get_edge_attributes(G,'weight')\n",
    "nx.draw_networkx_edge_labels(G, pos, edge_labels = edge_weight)"
   ]
  },
  {
   "cell_type": "markdown",
   "metadata": {},
   "source": [
    "## Conclusion\n",
    "Dans cette présentation, nous avons abordé l'entrée d'une matrice stochastique, la recherche des sous-classes d'états, la vérification de la réductibilité de la matrice, et la visualisation de la chaîne de Markov sous forme de graphe stochastique."
   ]
  }
 ],
 "metadata": {
  "kernelspec": {
   "display_name": "Python 3",
   "language": "python",
   "name": "python3"
  },
  "language_info": {
   "codemirror_mode": {
    "name": "ipython",
    "version": 3
   },
   "file_extension": ".py",
   "mimetype": "text/x-python",
   "name": "python",
   "nbconvert_exporter": "python",
   "pygments_lexer": "ipython3",
   "version": "3.11.6"
  }
 },
 "nbformat": 4,
 "nbformat_minor": 2
}
